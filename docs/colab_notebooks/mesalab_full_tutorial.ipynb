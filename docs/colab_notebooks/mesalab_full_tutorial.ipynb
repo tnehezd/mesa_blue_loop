{
  "nbformat": 4,
  "nbformat_minor": 0,
  "metadata": {
    "colab": {
      "provenance": [],
      "authorship_tag": "ABX9TyNLPU67MjIp2KKt49bHEMgz",
      "include_colab_link": true
    },
    "kernelspec": {
      "name": "python3",
      "display_name": "Python 3"
    },
    "language_info": {
      "name": "python"
    }
  },
  "cells": [
    {
      "cell_type": "markdown",
      "metadata": {
        "id": "view-in-github",
        "colab_type": "text"
      },
      "source": [
        "<a href=\"https://colab.research.google.com/github/tnehezd/mesa_blue_loop/blob/main/docs/colab_notebooks/mesalab_full_tutorial.ipynb\" target=\"_parent\"><img src=\"https://colab.research.google.com/assets/colab-badge.svg\" alt=\"Open In Colab\"/></a>"
      ]
    },
    {
      "cell_type": "markdown",
      "source": [
        "# Tutorial: Running an Example Analysis in `mesalab` with Google Colab\n",
        "\n",
        "\n",
        "This notebook will guide you through running a full `mesalab` analysis within a Google Colab environment. We'll set up `mesalab`, process a sample of real MESA data to identify specific stellar phenomena, and inspect the results.\n",
        "\n",
        "The provided example data allows you to test `mesalab`'s core functionality for filtering MESA outputs **without** needing to install the MESA SDK, GYRE, or RSP.\n",
        "\n",
        "----\n",
        "\n",
        "### Prerequisites\n",
        "\n",
        "* An active Google account (for Colab access).\n",
        "\n",
        "----\n"
      ],
      "metadata": {
        "id": "qrRUjWlmzSz7"
      }
    },
    {
      "cell_type": "code",
      "source": [
        "!rm -rf /content/mesalab/\n"
      ],
      "metadata": {
        "id": "_WTbReq6f_cf"
      },
      "execution_count": 20,
      "outputs": []
    }
  ]
}