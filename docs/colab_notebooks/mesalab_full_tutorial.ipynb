{
  "nbformat": 4,
  "nbformat_minor": 0,
  "metadata": {
    "colab": {
      "provenance": [],
      "authorship_tag": "ABX9TyNtkdr5lCpAGK33Htg82vS9",
      "include_colab_link": true
    },
    "kernelspec": {
      "name": "python3",
      "display_name": "Python 3"
    },
    "language_info": {
      "name": "python"
    }
  },
  "cells": [
    {
      "cell_type": "markdown",
      "metadata": {
        "id": "view-in-github",
        "colab_type": "text"
      },
      "source": [
        "<a href=\"https://colab.research.google.com/github/tnehezd/mesa_blue_loop/blob/main/docs/colab_notebooks/mesalab_full_tutorial.ipynb\" target=\"_parent\"><img src=\"https://colab.research.google.com/assets/colab-badge.svg\" alt=\"Open In Colab\"/></a>"
      ]
    },
    {
      "cell_type": "markdown",
      "source": [
        "# Tutorial: Running an Example Analysis in `mesalab` with Google Colab\n",
        "\n",
        "\n",
        "This notebook will guide you through running a full `mesalab` analysis within a Google Colab environment. We'll set up `mesalab`, process a sample of real MESA data to identify specific stellar phenomena, and inspect the results.\n",
        "\n",
        "The provided example data allows you to test `mesalab`'s core functionality for filtering MESA outputs **without** needing to install the MESA SDK, GYRE, or RSP.\n",
        "\n",
        "----\n",
        "\n",
        "### Prerequisites\n",
        "\n",
        "* An active Google account (for Colab access).\n",
        "\n",
        "----\n"
      ],
      "metadata": {
        "id": "qrRUjWlmzSz7"
      }
    },
    {
      "cell_type": "markdown",
      "source": [
        "## 1.  Set up `mesalab` and Get Example Data\n",
        "\n",
        "#### 1.1 Clone the ``mesalab`` repository\n",
        "\n",
        "First, clone the `mesalab` repository from GitHub. This will give you access to the source code and the `example/` directory containing the sample MESA data and configuration files."
      ],
      "metadata": {
        "id": "3QozCapHLxgh"
      }
    },
    {
      "cell_type": "code",
      "source": [
        "!git clone https://github.com/konkolyseismolab/mesalab"
      ],
      "metadata": {
        "id": "_WTbReq6f_cf",
        "colab": {
          "base_uri": "https://localhost:8080/"
        },
        "outputId": "ba875f5e-0868-45ce-8629-fbdaa14f0130"
      },
      "execution_count": 1,
      "outputs": [
        {
          "output_type": "stream",
          "name": "stdout",
          "text": [
            "Cloning into 'mesalab'...\n",
            "remote: Enumerating objects: 16821, done.\u001b[K\n",
            "remote: Counting objects: 100% (1070/1070), done.\u001b[K\n",
            "remote: Compressing objects: 100% (230/230), done.\u001b[K\n",
            "remote: Total 16821 (delta 508), reused 1010 (delta 461), pack-reused 15751 (from 2)\u001b[K\n",
            "Receiving objects: 100% (16821/16821), 861.32 MiB | 15.61 MiB/s, done.\n",
            "Resolving deltas: 100% (8754/8754), done.\n",
            "Updating files: 100% (928/928), done.\n"
          ]
        }
      ]
    },
    {
      "cell_type": "markdown",
      "source": [
        "#### 1.2 Install `mesalab` and its dependencies\n",
        "\n",
        "Now, install `mesalab` and all its required Python packages."
      ],
      "metadata": {
        "id": "EYMNFUlQMZZk"
      }
    },
    {
      "cell_type": "code",
      "source": [
        "# Navigate in the main directory\n",
        "%cd mesalab\n",
        "\n",
        "# Install the package\n",
        "!pip install -e ."
      ],
      "metadata": {
        "colab": {
          "base_uri": "https://localhost:8080/"
        },
        "id": "zZTjvN2oMriG",
        "outputId": "dae7e16d-4343-4de3-bea1-2f2e42dd9f35"
      },
      "execution_count": 2,
      "outputs": [
        {
          "output_type": "stream",
          "name": "stdout",
          "text": [
            "/content/mesalab\n",
            "Obtaining file:///content/mesalab\n",
            "  Preparing metadata (setup.py) ... \u001b[?25l\u001b[?25hdone\n",
            "Requirement already satisfied: pandas>=1.3.5 in /usr/local/lib/python3.11/dist-packages (from mesalab==0.1.0.dev0) (2.2.2)\n",
            "Requirement already satisfied: numpy>=1.21.6 in /usr/local/lib/python3.11/dist-packages (from mesalab==0.1.0.dev0) (2.0.2)\n",
            "Requirement already satisfied: matplotlib>=3.5.3 in /usr/local/lib/python3.11/dist-packages (from mesalab==0.1.0.dev0) (3.10.0)\n",
            "Requirement already satisfied: PyYAML>=6.0.1 in /usr/local/lib/python3.11/dist-packages (from mesalab==0.1.0.dev0) (6.0.2)\n",
            "Requirement already satisfied: tqdm>=4.67.1 in /usr/local/lib/python3.11/dist-packages (from mesalab==0.1.0.dev0) (4.67.1)\n",
            "Requirement already satisfied: scipy>=1.7.3 in /usr/local/lib/python3.11/dist-packages (from mesalab==0.1.0.dev0) (1.16.1)\n",
            "Requirement already satisfied: astropy>=4.3.1 in /usr/local/lib/python3.11/dist-packages (from mesalab==0.1.0.dev0) (7.1.0)\n",
            "Collecting isochrones>=2.1 (from mesalab==0.1.0.dev0)\n",
            "  Downloading isochrones-2.1.tar.gz (76 kB)\n",
            "\u001b[2K     \u001b[90m━━━━━━━━━━━━━━━━━━━━━━━━━━━━━━━━━━━━━━━━\u001b[0m \u001b[32m76.9/76.9 kB\u001b[0m \u001b[31m2.2 MB/s\u001b[0m eta \u001b[36m0:00:00\u001b[0m\n",
            "\u001b[?25h  Preparing metadata (setup.py) ... \u001b[?25l\u001b[?25hdone\n",
            "Collecting pygyre>=1.3.2 (from mesalab==0.1.0.dev0)\n",
            "  Downloading pygyre-1.4-py3-none-any.whl.metadata (1.7 kB)\n",
            "Requirement already satisfied: seaborn>=0.12.2 in /usr/local/lib/python3.11/dist-packages (from mesalab==0.1.0.dev0) (0.13.2)\n",
            "Requirement already satisfied: numba>=0.56.4 in /usr/local/lib/python3.11/dist-packages (from mesalab==0.1.0.dev0) (0.60.0)\n",
            "Collecting swifter>=1.4.0 (from mesalab==0.1.0.dev0)\n",
            "  Downloading swifter-1.4.0.tar.gz (1.2 MB)\n",
            "\u001b[2K     \u001b[90m━━━━━━━━━━━━━━━━━━━━━━━━━━━━━━━━━━━━━━━━\u001b[0m \u001b[32m1.2/1.2 MB\u001b[0m \u001b[31m20.5 MB/s\u001b[0m eta \u001b[36m0:00:00\u001b[0m\n",
            "\u001b[?25h  Preparing metadata (setup.py) ... \u001b[?25l\u001b[?25hdone\n",
            "Collecting f90nml>=1.4.5 (from mesalab==0.1.0.dev0)\n",
            "  Downloading f90nml-1.4.5.tar.gz (60 kB)\n",
            "\u001b[2K     \u001b[90m━━━━━━━━━━━━━━━━━━━━━━━━━━━━━━━━━━━━━━━━\u001b[0m \u001b[32m60.8/60.8 kB\u001b[0m \u001b[31m5.2 MB/s\u001b[0m eta \u001b[36m0:00:00\u001b[0m\n",
            "\u001b[?25h  Preparing metadata (setup.py) ... \u001b[?25l\u001b[?25hdone\n",
            "Collecting addict (from mesalab==0.1.0.dev0)\n",
            "  Downloading addict-2.4.0-py3-none-any.whl.metadata (1.0 kB)\n",
            "Requirement already satisfied: pyerfa>=2.0.1.1 in /usr/local/lib/python3.11/dist-packages (from astropy>=4.3.1->mesalab==0.1.0.dev0) (2.0.1.5)\n",
            "Requirement already satisfied: astropy-iers-data>=0.2025.4.28.0.37.27 in /usr/local/lib/python3.11/dist-packages (from astropy>=4.3.1->mesalab==0.1.0.dev0) (0.2025.8.11.0.41.9)\n",
            "Requirement already satisfied: packaging>=22.0.0 in /usr/local/lib/python3.11/dist-packages (from astropy>=4.3.1->mesalab==0.1.0.dev0) (25.0)\n",
            "Collecting emcee>=2.0 (from isochrones>=2.1->mesalab==0.1.0.dev0)\n",
            "  Downloading emcee-3.1.6-py2.py3-none-any.whl.metadata (3.0 kB)\n",
            "Requirement already satisfied: tables>=3.0 in /usr/local/lib/python3.11/dist-packages (from isochrones>=2.1->mesalab==0.1.0.dev0) (3.10.2)\n",
            "Collecting asciitree (from isochrones>=2.1->mesalab==0.1.0.dev0)\n",
            "  Downloading asciitree-0.3.3.tar.gz (4.0 kB)\n",
            "  Preparing metadata (setup.py) ... \u001b[?25l\u001b[?25hdone\n",
            "Collecting corner (from isochrones>=2.1->mesalab==0.1.0.dev0)\n",
            "  Downloading corner-2.2.3-py3-none-any.whl.metadata (2.2 kB)\n",
            "Collecting astroquery (from isochrones>=2.1->mesalab==0.1.0.dev0)\n",
            "  Downloading astroquery-0.4.10-py3-none-any.whl.metadata (6.3 kB)\n",
            "Collecting configobj (from isochrones>=2.1->mesalab==0.1.0.dev0)\n",
            "  Downloading configobj-5.0.9-py2.py3-none-any.whl.metadata (3.2 kB)\n",
            "Requirement already satisfied: contourpy>=1.0.1 in /usr/local/lib/python3.11/dist-packages (from matplotlib>=3.5.3->mesalab==0.1.0.dev0) (1.3.3)\n",
            "Requirement already satisfied: cycler>=0.10 in /usr/local/lib/python3.11/dist-packages (from matplotlib>=3.5.3->mesalab==0.1.0.dev0) (0.12.1)\n",
            "Requirement already satisfied: fonttools>=4.22.0 in /usr/local/lib/python3.11/dist-packages (from matplotlib>=3.5.3->mesalab==0.1.0.dev0) (4.59.0)\n",
            "Requirement already satisfied: kiwisolver>=1.3.1 in /usr/local/lib/python3.11/dist-packages (from matplotlib>=3.5.3->mesalab==0.1.0.dev0) (1.4.9)\n",
            "Requirement already satisfied: pillow>=8 in /usr/local/lib/python3.11/dist-packages (from matplotlib>=3.5.3->mesalab==0.1.0.dev0) (11.3.0)\n",
            "Requirement already satisfied: pyparsing>=2.3.1 in /usr/local/lib/python3.11/dist-packages (from matplotlib>=3.5.3->mesalab==0.1.0.dev0) (3.2.3)\n",
            "Requirement already satisfied: python-dateutil>=2.7 in /usr/local/lib/python3.11/dist-packages (from matplotlib>=3.5.3->mesalab==0.1.0.dev0) (2.9.0.post0)\n",
            "Requirement already satisfied: llvmlite<0.44,>=0.43.0dev0 in /usr/local/lib/python3.11/dist-packages (from numba>=0.56.4->mesalab==0.1.0.dev0) (0.43.0)\n",
            "Requirement already satisfied: pytz>=2020.1 in /usr/local/lib/python3.11/dist-packages (from pandas>=1.3.5->mesalab==0.1.0.dev0) (2025.2)\n",
            "Requirement already satisfied: tzdata>=2022.7 in /usr/local/lib/python3.11/dist-packages (from pandas>=1.3.5->mesalab==0.1.0.dev0) (2025.2)\n",
            "Requirement already satisfied: h5py>=3.9.0 in /usr/local/lib/python3.11/dist-packages (from pygyre>=1.3.2->mesalab==0.1.0.dev0) (3.14.0)\n",
            "Requirement already satisfied: psutil>=5.6.6 in /usr/local/lib/python3.11/dist-packages (from swifter>=1.4.0->mesalab==0.1.0.dev0) (5.9.5)\n",
            "Requirement already satisfied: dask>=2.10.0 in /usr/local/lib/python3.11/dist-packages (from dask[dataframe]>=2.10.0->swifter>=1.4.0->mesalab==0.1.0.dev0) (2025.5.0)\n",
            "Requirement already satisfied: click>=8.1 in /usr/local/lib/python3.11/dist-packages (from dask>=2.10.0->dask[dataframe]>=2.10.0->swifter>=1.4.0->mesalab==0.1.0.dev0) (8.2.1)\n",
            "Requirement already satisfied: cloudpickle>=3.0.0 in /usr/local/lib/python3.11/dist-packages (from dask>=2.10.0->dask[dataframe]>=2.10.0->swifter>=1.4.0->mesalab==0.1.0.dev0) (3.1.1)\n",
            "Requirement already satisfied: fsspec>=2021.09.0 in /usr/local/lib/python3.11/dist-packages (from dask>=2.10.0->dask[dataframe]>=2.10.0->swifter>=1.4.0->mesalab==0.1.0.dev0) (2025.3.0)\n",
            "Requirement already satisfied: partd>=1.4.0 in /usr/local/lib/python3.11/dist-packages (from dask>=2.10.0->dask[dataframe]>=2.10.0->swifter>=1.4.0->mesalab==0.1.0.dev0) (1.4.2)\n",
            "Requirement already satisfied: toolz>=0.10.0 in /usr/local/lib/python3.11/dist-packages (from dask>=2.10.0->dask[dataframe]>=2.10.0->swifter>=1.4.0->mesalab==0.1.0.dev0) (0.12.1)\n",
            "Requirement already satisfied: importlib_metadata>=4.13.0 in /usr/local/lib/python3.11/dist-packages (from dask>=2.10.0->dask[dataframe]>=2.10.0->swifter>=1.4.0->mesalab==0.1.0.dev0) (8.7.0)\n",
            "Requirement already satisfied: pyarrow>=14.0.1 in /usr/local/lib/python3.11/dist-packages (from dask[dataframe]>=2.10.0->swifter>=1.4.0->mesalab==0.1.0.dev0) (18.1.0)\n",
            "Requirement already satisfied: six>=1.5 in /usr/local/lib/python3.11/dist-packages (from python-dateutil>=2.7->matplotlib>=3.5.3->mesalab==0.1.0.dev0) (1.17.0)\n",
            "Requirement already satisfied: numexpr>=2.6.2 in /usr/local/lib/python3.11/dist-packages (from tables>=3.0->isochrones>=2.1->mesalab==0.1.0.dev0) (2.11.0)\n",
            "Requirement already satisfied: py-cpuinfo in /usr/local/lib/python3.11/dist-packages (from tables>=3.0->isochrones>=2.1->mesalab==0.1.0.dev0) (9.0.0)\n",
            "Requirement already satisfied: blosc2>=2.3.0 in /usr/local/lib/python3.11/dist-packages (from tables>=3.0->isochrones>=2.1->mesalab==0.1.0.dev0) (3.7.0)\n",
            "Requirement already satisfied: typing-extensions>=4.4.0 in /usr/local/lib/python3.11/dist-packages (from tables>=3.0->isochrones>=2.1->mesalab==0.1.0.dev0) (4.14.1)\n",
            "Requirement already satisfied: requests>=2.19 in /usr/local/lib/python3.11/dist-packages (from astroquery->isochrones>=2.1->mesalab==0.1.0.dev0) (2.32.3)\n",
            "Requirement already satisfied: beautifulsoup4>=4.8 in /usr/local/lib/python3.11/dist-packages (from astroquery->isochrones>=2.1->mesalab==0.1.0.dev0) (4.13.4)\n",
            "Requirement already satisfied: html5lib>=0.999 in /usr/local/lib/python3.11/dist-packages (from astroquery->isochrones>=2.1->mesalab==0.1.0.dev0) (1.1)\n",
            "Requirement already satisfied: keyring>=15.0 in /usr/local/lib/python3.11/dist-packages (from astroquery->isochrones>=2.1->mesalab==0.1.0.dev0) (25.6.0)\n",
            "Collecting pyvo>=1.5 (from astroquery->isochrones>=2.1->mesalab==0.1.0.dev0)\n",
            "  Downloading pyvo-1.7-py3-none-any.whl.metadata (4.7 kB)\n",
            "Requirement already satisfied: soupsieve>1.2 in /usr/local/lib/python3.11/dist-packages (from beautifulsoup4>=4.8->astroquery->isochrones>=2.1->mesalab==0.1.0.dev0) (2.7)\n",
            "Requirement already satisfied: ndindex in /usr/local/lib/python3.11/dist-packages (from blosc2>=2.3.0->tables>=3.0->isochrones>=2.1->mesalab==0.1.0.dev0) (1.10.0)\n",
            "Requirement already satisfied: msgpack in /usr/local/lib/python3.11/dist-packages (from blosc2>=2.3.0->tables>=3.0->isochrones>=2.1->mesalab==0.1.0.dev0) (1.1.1)\n",
            "Requirement already satisfied: platformdirs in /usr/local/lib/python3.11/dist-packages (from blosc2>=2.3.0->tables>=3.0->isochrones>=2.1->mesalab==0.1.0.dev0) (4.3.8)\n",
            "Requirement already satisfied: webencodings in /usr/local/lib/python3.11/dist-packages (from html5lib>=0.999->astroquery->isochrones>=2.1->mesalab==0.1.0.dev0) (0.5.1)\n",
            "Requirement already satisfied: zipp>=3.20 in /usr/local/lib/python3.11/dist-packages (from importlib_metadata>=4.13.0->dask>=2.10.0->dask[dataframe]>=2.10.0->swifter>=1.4.0->mesalab==0.1.0.dev0) (3.23.0)\n",
            "Requirement already satisfied: SecretStorage>=3.2 in /usr/local/lib/python3.11/dist-packages (from keyring>=15.0->astroquery->isochrones>=2.1->mesalab==0.1.0.dev0) (3.3.3)\n",
            "Requirement already satisfied: jeepney>=0.4.2 in /usr/local/lib/python3.11/dist-packages (from keyring>=15.0->astroquery->isochrones>=2.1->mesalab==0.1.0.dev0) (0.9.0)\n",
            "Requirement already satisfied: jaraco.classes in /usr/local/lib/python3.11/dist-packages (from keyring>=15.0->astroquery->isochrones>=2.1->mesalab==0.1.0.dev0) (3.4.0)\n",
            "Requirement already satisfied: jaraco.functools in /usr/local/lib/python3.11/dist-packages (from keyring>=15.0->astroquery->isochrones>=2.1->mesalab==0.1.0.dev0) (4.2.1)\n",
            "Requirement already satisfied: jaraco.context in /usr/local/lib/python3.11/dist-packages (from keyring>=15.0->astroquery->isochrones>=2.1->mesalab==0.1.0.dev0) (6.0.1)\n",
            "Requirement already satisfied: locket in /usr/local/lib/python3.11/dist-packages (from partd>=1.4.0->dask>=2.10.0->dask[dataframe]>=2.10.0->swifter>=1.4.0->mesalab==0.1.0.dev0) (1.0.0)\n",
            "Requirement already satisfied: charset-normalizer<4,>=2 in /usr/local/lib/python3.11/dist-packages (from requests>=2.19->astroquery->isochrones>=2.1->mesalab==0.1.0.dev0) (3.4.3)\n",
            "Requirement already satisfied: idna<4,>=2.5 in /usr/local/lib/python3.11/dist-packages (from requests>=2.19->astroquery->isochrones>=2.1->mesalab==0.1.0.dev0) (3.10)\n",
            "Requirement already satisfied: urllib3<3,>=1.21.1 in /usr/local/lib/python3.11/dist-packages (from requests>=2.19->astroquery->isochrones>=2.1->mesalab==0.1.0.dev0) (2.5.0)\n",
            "Requirement already satisfied: certifi>=2017.4.17 in /usr/local/lib/python3.11/dist-packages (from requests>=2.19->astroquery->isochrones>=2.1->mesalab==0.1.0.dev0) (2025.8.3)\n",
            "Requirement already satisfied: cryptography>=2.0 in /usr/local/lib/python3.11/dist-packages (from SecretStorage>=3.2->keyring>=15.0->astroquery->isochrones>=2.1->mesalab==0.1.0.dev0) (43.0.3)\n",
            "Requirement already satisfied: more-itertools in /usr/local/lib/python3.11/dist-packages (from jaraco.classes->keyring>=15.0->astroquery->isochrones>=2.1->mesalab==0.1.0.dev0) (10.7.0)\n",
            "Requirement already satisfied: backports.tarfile in /usr/local/lib/python3.11/dist-packages (from jaraco.context->keyring>=15.0->astroquery->isochrones>=2.1->mesalab==0.1.0.dev0) (1.2.0)\n",
            "Requirement already satisfied: cffi>=1.12 in /usr/local/lib/python3.11/dist-packages (from cryptography>=2.0->SecretStorage>=3.2->keyring>=15.0->astroquery->isochrones>=2.1->mesalab==0.1.0.dev0) (1.17.1)\n",
            "Requirement already satisfied: pycparser in /usr/local/lib/python3.11/dist-packages (from cffi>=1.12->cryptography>=2.0->SecretStorage>=3.2->keyring>=15.0->astroquery->isochrones>=2.1->mesalab==0.1.0.dev0) (2.22)\n",
            "Downloading pygyre-1.4-py3-none-any.whl (29 kB)\n",
            "Downloading addict-2.4.0-py3-none-any.whl (3.8 kB)\n",
            "Downloading emcee-3.1.6-py2.py3-none-any.whl (47 kB)\n",
            "\u001b[2K   \u001b[90m━━━━━━━━━━━━━━━━━━━━━━━━━━━━━━━━━━━━━━━━\u001b[0m \u001b[32m47.4/47.4 kB\u001b[0m \u001b[31m3.3 MB/s\u001b[0m eta \u001b[36m0:00:00\u001b[0m\n",
            "\u001b[?25hDownloading astroquery-0.4.10-py3-none-any.whl (11.1 MB)\n",
            "\u001b[2K   \u001b[90m━━━━━━━━━━━━━━━━━━━━━━━━━━━━━━━━━━━━━━━━\u001b[0m \u001b[32m11.1/11.1 MB\u001b[0m \u001b[31m61.7 MB/s\u001b[0m eta \u001b[36m0:00:00\u001b[0m\n",
            "\u001b[?25hDownloading configobj-5.0.9-py2.py3-none-any.whl (35 kB)\n",
            "Downloading corner-2.2.3-py3-none-any.whl (15 kB)\n",
            "Downloading pyvo-1.7-py3-none-any.whl (1.1 MB)\n",
            "\u001b[2K   \u001b[90m━━━━━━━━━━━━━━━━━━━━━━━━━━━━━━━━━━━━━━━━\u001b[0m \u001b[32m1.1/1.1 MB\u001b[0m \u001b[31m32.4 MB/s\u001b[0m eta \u001b[36m0:00:00\u001b[0m\n",
            "\u001b[?25hBuilding wheels for collected packages: f90nml, isochrones, swifter, asciitree\n",
            "  Building wheel for f90nml (setup.py) ... \u001b[?25l\u001b[?25hdone\n",
            "  Created wheel for f90nml: filename=f90nml-1.4.5-py2.py3-none-any.whl size=33090 sha256=aa6146cb4aaa603afd735a76d2fcd2a2cf795e114c421985b2ec96abfb298d2e\n",
            "  Stored in directory: /root/.cache/pip/wheels/ac/93/68/55e402429d2f976465867d5ce73ccc13ab8978313b20dd2050\n",
            "  Building wheel for isochrones (setup.py) ... \u001b[?25l\u001b[?25hdone\n",
            "  Created wheel for isochrones: filename=isochrones-2.1-py3-none-any.whl size=93761 sha256=c379360e56333766fc98d9206e52bdbb5fbd78f362ef08423e27d06e1d1cbb8e\n",
            "  Stored in directory: /root/.cache/pip/wheels/53/64/c1/c070a8a6de96ba901c4c45285a0479613a94aa211f0cf8fe60\n",
            "  Building wheel for swifter (setup.py) ... \u001b[?25l\u001b[?25hdone\n",
            "  Created wheel for swifter: filename=swifter-1.4.0-py3-none-any.whl size=16505 sha256=1be9b733379dd5915fd75dbf25870744ac89827f17533b561343b742bb511760\n",
            "  Stored in directory: /root/.cache/pip/wheels/ef/7f/bd/9bed48f078f3ee1fa75e0b29b6e0335ce1cb03a38d3443b3a3\n",
            "  Building wheel for asciitree (setup.py) ... \u001b[?25l\u001b[?25hdone\n",
            "  Created wheel for asciitree: filename=asciitree-0.3.3-py3-none-any.whl size=5031 sha256=7b86980fbdf14e535137596aaf1c2e8b140db04c8040cee8acc0e1e0ea7a57a6\n",
            "  Stored in directory: /root/.cache/pip/wheels/71/c1/da/23077eb3b87d24d6f3852ed1ed1a1ac2d3c885ad6ebd2b4a07\n",
            "Successfully built f90nml isochrones swifter asciitree\n",
            "Installing collected packages: f90nml, asciitree, addict, emcee, configobj, pyvo, pygyre, corner, swifter, astroquery, isochrones, mesalab\n",
            "  Running setup.py develop for mesalab\n",
            "Successfully installed addict-2.4.0 asciitree-0.3.3 astroquery-0.4.10 configobj-5.0.9 corner-2.2.3 emcee-3.1.6 f90nml-1.4.5 isochrones-2.1 mesalab-0.1.0.dev0 pygyre-1.4 pyvo-1.7 swifter-1.4.0\n"
          ]
        }
      ]
    },
    {
      "cell_type": "markdown",
      "source": [
        "#### 1.3. Examine the Example Data and Configuration\n",
        "\n",
        "\n",
        "Once you have successfully installed the package, navigate to the `example` directory."
      ],
      "metadata": {
        "id": "Oebj7XZxP0PO"
      }
    },
    {
      "cell_type": "code",
      "source": [
        "%cd example/"
      ],
      "metadata": {
        "id": "dBjLk88gPvXx",
        "outputId": "2ac7747d-e2a6-452a-e4e7-0c0eb3d3edb8",
        "colab": {
          "base_uri": "https://localhost:8080/"
        }
      },
      "execution_count": 3,
      "outputs": [
        {
          "output_type": "stream",
          "name": "stdout",
          "text": [
            "/content/mesalab/example\n"
          ]
        }
      ]
    }
  ]
}