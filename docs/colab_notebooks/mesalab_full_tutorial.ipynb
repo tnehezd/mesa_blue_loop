{
  "nbformat": 4,
  "nbformat_minor": 0,
  "metadata": {
    "colab": {
      "provenance": [],
      "authorship_tag": "ABX9TyM2rym6b2VlVV0NbiyCj+fo",
      "include_colab_link": true
    },
    "kernelspec": {
      "name": "python3",
      "display_name": "Python 3"
    },
    "language_info": {
      "name": "python"
    }
  },
  "cells": [
    {
      "cell_type": "markdown",
      "metadata": {
        "id": "view-in-github",
        "colab_type": "text"
      },
      "source": [
        "<a href=\"https://colab.research.google.com/github/tnehezd/mesa_blue_loop/blob/main/docs/colab_notebooks/mesalab_full_tutorial.ipynb\" target=\"_parent\"><img src=\"https://colab.research.google.com/assets/colab-badge.svg\" alt=\"Open In Colab\"/></a>"
      ]
    },
    {
      "cell_type": "markdown",
      "source": [
        "# Tutorial: Running an Example Analysis in `mesalab` with Google Colab\n",
        "\n",
        "\n",
        "This notebook will guide you through running a full `mesalab` analysis within a Google Colab environment. We'll set up `mesalab`, process a sample of real MESA data to identify specific stellar phenomena, and inspect the results.\n",
        "\n",
        "The provided example data allows you to test `mesalab`'s core functionality for filtering MESA outputs **without** needing to install the MESA SDK, GYRE, or RSP.\n",
        "\n",
        "----\n",
        "\n",
        "### Prerequisites\n",
        "\n",
        "* An active Google account (for Colab access).\n",
        "\n",
        "----\n"
      ],
      "metadata": {
        "id": "qrRUjWlmzSz7"
      }
    },
    {
      "cell_type": "markdown",
      "source": [
        "## 1.  Set up `mesalab` and Get Example Data\n",
        "\n",
        "#### 1.1 Clone the ``mesalab`` repository\n",
        "\n",
        "First, clone the `mesalab` repository from GitHub. This will give you access to the source code and the `example/` directory containing the sample MESA data and configuration files."
      ],
      "metadata": {
        "id": "3QozCapHLxgh"
      }
    },
    {
      "cell_type": "code",
      "source": [
        "!git clone https://github.com/konkolyseismolab/mesalab"
      ],
      "metadata": {
        "id": "_WTbReq6f_cf",
        "colab": {
          "base_uri": "https://localhost:8080/"
        },
        "outputId": "ba875f5e-0868-45ce-8629-fbdaa14f0130"
      },
      "execution_count": 1,
      "outputs": [
        {
          "output_type": "stream",
          "name": "stdout",
          "text": [
            "Cloning into 'mesalab'...\n",
            "remote: Enumerating objects: 16821, done.\u001b[K\n",
            "remote: Counting objects: 100% (1070/1070), done.\u001b[K\n",
            "remote: Compressing objects: 100% (230/230), done.\u001b[K\n",
            "remote: Total 16821 (delta 508), reused 1010 (delta 461), pack-reused 15751 (from 2)\u001b[K\n",
            "Receiving objects: 100% (16821/16821), 861.32 MiB | 15.61 MiB/s, done.\n",
            "Resolving deltas: 100% (8754/8754), done.\n",
            "Updating files: 100% (928/928), done.\n"
          ]
        }
      ]
    }
  ]
}