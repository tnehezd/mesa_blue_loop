{
 "cells": [
  {
   "cell_type": "markdown",
   "metadata": {
    "colab_type": "text",
    "id": "view-in-github"
   },
   "source": [
    "<a href=\"https://colab.research.google.com/github/tnehezd/mesa_blue_loop/blob/main/docs/colab_notebooks/mesalab_full_tutorial.ipynb\" target=\"_parent\"><img src=\"https://colab.research.google.com/assets/colab-badge.svg\" alt=\"Open In Colab\"/></a>"
   ]
  },
  {
   "cell_type": "markdown",
   "metadata": {
    "id": "qrRUjWlmzSz7"
   },
   "source": [
    "# Tutorial: Running an Example Analysis in `mesalab` with Google Colab\n",
    "\n",
    "\n",
    "This notebook will guide you through running a full `mesalab` analysis within a Google Colab environment. We'll set up `mesalab`, process a sample of real MESA data to identify specific stellar phenomena, and inspect the results.\n",
    "\n",
    "The provided example data allows you to test `mesalab`'s core functionality for filtering MESA outputs **without** needing to install the MESA SDK, GYRE, or RSP.\n",
    "\n",
    "----\n",
    "\n",
    "### Prerequisites\n",
    "\n",
    "* An active Google account (for Colab access).\n",
    "\n",
    "----\n"
   ]
  },
  {
   "cell_type": "markdown",
   "metadata": {
    "id": "3QozCapHLxgh"
   },
   "source": [
    "## 1.  Set up `mesalab` and Get Example Data\n",
    "\n",
    "#### 1.1 Clone the ``mesalab`` repository\n",
    "\n",
    "First, clone the `mesalab` repository from GitHub. This will give you access to the source code and the `example/` directory containing the sample MESA data and configuration files.\n",
    "\n",
    "> 💡 **Note:** This step is a one-time operation per session.\n",
    "> If you've already run this cell, you can skip it.\n"
   ]
  },
  {
   "cell_type": "code",
   "execution_count": 1,
   "metadata": {
    "colab": {
     "base_uri": "https://localhost:8080/"
    },
    "id": "_WTbReq6f_cf",
    "outputId": "d1bf217f-5002-4653-c36c-f5ea9250188a"
   },
   "outputs": [
    {
     "name": "stdout",
     "output_type": "stream",
     "text": [
      "Cloning into 'mesalab'...\n",
      "remote: Enumerating objects: 16845, done.\u001b[K\n",
      "remote: Counting objects: 100% (1094/1094), done.\u001b[K\n",
      "remote: Compressing objects: 100% (246/246), done.\u001b[K\n",
      "remote: Total 16845 (delta 522), reused 1028 (delta 469), pack-reused 15751 (from 2)\u001b[K\n",
      "Receiving objects: 100% (16845/16845), 861.33 MiB | 16.16 MiB/s, done.\n",
      "Resolving deltas: 100% (8768/8768), done.\n",
      "Updating files: 100% (929/929), done.\n"
     ]
    }
   ],
   "source": [
    "!git clone https://github.com/konkolyseismolab/mesalab"
   ]
  },
  {
   "cell_type": "markdown",
   "metadata": {
    "id": "EYMNFUlQMZZk"
   },
   "source": [
    "----\n",
    "\n",
    "#### 1.2 Install `mesalab` and its dependencies\n",
    "\n",
    "Now, install `mesalab` and all its required Python packages.\n",
    "\n",
    "> 💡 **Note:** This step is a one-time operation per session.\n",
    "> If you've already run this cell, you can skip it.\n"
   ]
  },
  {
   "cell_type": "code",
   "execution_count": 2,
   "metadata": {
    "colab": {
     "base_uri": "https://localhost:8080/"
    },
    "id": "zZTjvN2oMriG",
    "outputId": "92112b1e-a5ce-4d81-8df9-120274a639e7"
   },
   "outputs": [
    {
     "name": "stdout",
     "output_type": "stream",
     "text": [
      "/content/mesalab\n",
      "Obtaining file:///content/mesalab\n",
      "  Preparing metadata (setup.py) ... \u001b[?25l\u001b[?25hdone\n",
      "Requirement already satisfied: pandas>=1.3.5 in /usr/local/lib/python3.11/dist-packages (from mesalab==0.1.0.dev0) (2.2.2)\n",
      "Requirement already satisfied: numpy>=1.21.6 in /usr/local/lib/python3.11/dist-packages (from mesalab==0.1.0.dev0) (2.0.2)\n",
      "Requirement already satisfied: matplotlib>=3.5.3 in /usr/local/lib/python3.11/dist-packages (from mesalab==0.1.0.dev0) (3.10.0)\n",
      "Requirement already satisfied: PyYAML>=6.0.1 in /usr/local/lib/python3.11/dist-packages (from mesalab==0.1.0.dev0) (6.0.2)\n",
      "Requirement already satisfied: tqdm>=4.67.1 in /usr/local/lib/python3.11/dist-packages (from mesalab==0.1.0.dev0) (4.67.1)\n",
      "Requirement already satisfied: scipy>=1.7.3 in /usr/local/lib/python3.11/dist-packages (from mesalab==0.1.0.dev0) (1.16.1)\n",
      "Requirement already satisfied: astropy>=4.3.1 in /usr/local/lib/python3.11/dist-packages (from mesalab==0.1.0.dev0) (7.1.0)\n",
      "Requirement already satisfied: isochrones>=2.1 in /usr/local/lib/python3.11/dist-packages (from mesalab==0.1.0.dev0) (2.1)\n",
      "Requirement already satisfied: pygyre>=1.3.2 in /usr/local/lib/python3.11/dist-packages (from mesalab==0.1.0.dev0) (1.4)\n",
      "Requirement already satisfied: seaborn>=0.12.2 in /usr/local/lib/python3.11/dist-packages (from mesalab==0.1.0.dev0) (0.13.2)\n",
      "Requirement already satisfied: numba>=0.56.4 in /usr/local/lib/python3.11/dist-packages (from mesalab==0.1.0.dev0) (0.60.0)\n",
      "Requirement already satisfied: swifter>=1.4.0 in /usr/local/lib/python3.11/dist-packages (from mesalab==0.1.0.dev0) (1.4.0)\n",
      "Requirement already satisfied: f90nml>=1.4.5 in /usr/local/lib/python3.11/dist-packages (from mesalab==0.1.0.dev0) (1.4.5)\n",
      "Requirement already satisfied: addict in /usr/local/lib/python3.11/dist-packages (from mesalab==0.1.0.dev0) (2.4.0)\n",
      "Requirement already satisfied: pyerfa>=2.0.1.1 in /usr/local/lib/python3.11/dist-packages (from astropy>=4.3.1->mesalab==0.1.0.dev0) (2.0.1.5)\n",
      "Requirement already satisfied: astropy-iers-data>=0.2025.4.28.0.37.27 in /usr/local/lib/python3.11/dist-packages (from astropy>=4.3.1->mesalab==0.1.0.dev0) (0.2025.8.11.0.41.9)\n",
      "Requirement already satisfied: packaging>=22.0.0 in /usr/local/lib/python3.11/dist-packages (from astropy>=4.3.1->mesalab==0.1.0.dev0) (25.0)\n",
      "Requirement already satisfied: emcee>=2.0 in /usr/local/lib/python3.11/dist-packages (from isochrones>=2.1->mesalab==0.1.0.dev0) (3.1.6)\n",
      "Requirement already satisfied: tables>=3.0 in /usr/local/lib/python3.11/dist-packages (from isochrones>=2.1->mesalab==0.1.0.dev0) (3.10.2)\n",
      "Requirement already satisfied: asciitree in /usr/local/lib/python3.11/dist-packages (from isochrones>=2.1->mesalab==0.1.0.dev0) (0.3.3)\n",
      "Requirement already satisfied: corner in /usr/local/lib/python3.11/dist-packages (from isochrones>=2.1->mesalab==0.1.0.dev0) (2.2.3)\n",
      "Requirement already satisfied: astroquery in /usr/local/lib/python3.11/dist-packages (from isochrones>=2.1->mesalab==0.1.0.dev0) (0.4.10)\n",
      "Requirement already satisfied: configobj in /usr/local/lib/python3.11/dist-packages (from isochrones>=2.1->mesalab==0.1.0.dev0) (5.0.9)\n",
      "Requirement already satisfied: contourpy>=1.0.1 in /usr/local/lib/python3.11/dist-packages (from matplotlib>=3.5.3->mesalab==0.1.0.dev0) (1.3.3)\n",
      "Requirement already satisfied: cycler>=0.10 in /usr/local/lib/python3.11/dist-packages (from matplotlib>=3.5.3->mesalab==0.1.0.dev0) (0.12.1)\n",
      "Requirement already satisfied: fonttools>=4.22.0 in /usr/local/lib/python3.11/dist-packages (from matplotlib>=3.5.3->mesalab==0.1.0.dev0) (4.59.0)\n",
      "Requirement already satisfied: kiwisolver>=1.3.1 in /usr/local/lib/python3.11/dist-packages (from matplotlib>=3.5.3->mesalab==0.1.0.dev0) (1.4.9)\n",
      "Requirement already satisfied: pillow>=8 in /usr/local/lib/python3.11/dist-packages (from matplotlib>=3.5.3->mesalab==0.1.0.dev0) (11.3.0)\n",
      "Requirement already satisfied: pyparsing>=2.3.1 in /usr/local/lib/python3.11/dist-packages (from matplotlib>=3.5.3->mesalab==0.1.0.dev0) (3.2.3)\n",
      "Requirement already satisfied: python-dateutil>=2.7 in /usr/local/lib/python3.11/dist-packages (from matplotlib>=3.5.3->mesalab==0.1.0.dev0) (2.9.0.post0)\n",
      "Requirement already satisfied: llvmlite<0.44,>=0.43.0dev0 in /usr/local/lib/python3.11/dist-packages (from numba>=0.56.4->mesalab==0.1.0.dev0) (0.43.0)\n",
      "Requirement already satisfied: pytz>=2020.1 in /usr/local/lib/python3.11/dist-packages (from pandas>=1.3.5->mesalab==0.1.0.dev0) (2025.2)\n",
      "Requirement already satisfied: tzdata>=2022.7 in /usr/local/lib/python3.11/dist-packages (from pandas>=1.3.5->mesalab==0.1.0.dev0) (2025.2)\n",
      "Requirement already satisfied: h5py>=3.9.0 in /usr/local/lib/python3.11/dist-packages (from pygyre>=1.3.2->mesalab==0.1.0.dev0) (3.14.0)\n",
      "Requirement already satisfied: psutil>=5.6.6 in /usr/local/lib/python3.11/dist-packages (from swifter>=1.4.0->mesalab==0.1.0.dev0) (5.9.5)\n",
      "Requirement already satisfied: dask>=2.10.0 in /usr/local/lib/python3.11/dist-packages (from dask[dataframe]>=2.10.0->swifter>=1.4.0->mesalab==0.1.0.dev0) (2025.5.0)\n",
      "Requirement already satisfied: click>=8.1 in /usr/local/lib/python3.11/dist-packages (from dask>=2.10.0->dask[dataframe]>=2.10.0->swifter>=1.4.0->mesalab==0.1.0.dev0) (8.2.1)\n",
      "Requirement already satisfied: cloudpickle>=3.0.0 in /usr/local/lib/python3.11/dist-packages (from dask>=2.10.0->dask[dataframe]>=2.10.0->swifter>=1.4.0->mesalab==0.1.0.dev0) (3.1.1)\n",
      "Requirement already satisfied: fsspec>=2021.09.0 in /usr/local/lib/python3.11/dist-packages (from dask>=2.10.0->dask[dataframe]>=2.10.0->swifter>=1.4.0->mesalab==0.1.0.dev0) (2025.3.0)\n",
      "Requirement already satisfied: partd>=1.4.0 in /usr/local/lib/python3.11/dist-packages (from dask>=2.10.0->dask[dataframe]>=2.10.0->swifter>=1.4.0->mesalab==0.1.0.dev0) (1.4.2)\n",
      "Requirement already satisfied: toolz>=0.10.0 in /usr/local/lib/python3.11/dist-packages (from dask>=2.10.0->dask[dataframe]>=2.10.0->swifter>=1.4.0->mesalab==0.1.0.dev0) (0.12.1)\n",
      "Requirement already satisfied: importlib_metadata>=4.13.0 in /usr/local/lib/python3.11/dist-packages (from dask>=2.10.0->dask[dataframe]>=2.10.0->swifter>=1.4.0->mesalab==0.1.0.dev0) (8.7.0)\n",
      "Requirement already satisfied: pyarrow>=14.0.1 in /usr/local/lib/python3.11/dist-packages (from dask[dataframe]>=2.10.0->swifter>=1.4.0->mesalab==0.1.0.dev0) (18.1.0)\n",
      "Requirement already satisfied: six>=1.5 in /usr/local/lib/python3.11/dist-packages (from python-dateutil>=2.7->matplotlib>=3.5.3->mesalab==0.1.0.dev0) (1.17.0)\n",
      "Requirement already satisfied: numexpr>=2.6.2 in /usr/local/lib/python3.11/dist-packages (from tables>=3.0->isochrones>=2.1->mesalab==0.1.0.dev0) (2.11.0)\n",
      "Requirement already satisfied: py-cpuinfo in /usr/local/lib/python3.11/dist-packages (from tables>=3.0->isochrones>=2.1->mesalab==0.1.0.dev0) (9.0.0)\n",
      "Requirement already satisfied: blosc2>=2.3.0 in /usr/local/lib/python3.11/dist-packages (from tables>=3.0->isochrones>=2.1->mesalab==0.1.0.dev0) (3.7.0)\n",
      "Requirement already satisfied: typing-extensions>=4.4.0 in /usr/local/lib/python3.11/dist-packages (from tables>=3.0->isochrones>=2.1->mesalab==0.1.0.dev0) (4.14.1)\n",
      "Requirement already satisfied: requests>=2.19 in /usr/local/lib/python3.11/dist-packages (from astroquery->isochrones>=2.1->mesalab==0.1.0.dev0) (2.32.3)\n",
      "Requirement already satisfied: beautifulsoup4>=4.8 in /usr/local/lib/python3.11/dist-packages (from astroquery->isochrones>=2.1->mesalab==0.1.0.dev0) (4.13.4)\n",
      "Requirement already satisfied: html5lib>=0.999 in /usr/local/lib/python3.11/dist-packages (from astroquery->isochrones>=2.1->mesalab==0.1.0.dev0) (1.1)\n",
      "Requirement already satisfied: keyring>=15.0 in /usr/local/lib/python3.11/dist-packages (from astroquery->isochrones>=2.1->mesalab==0.1.0.dev0) (25.6.0)\n",
      "Requirement already satisfied: pyvo>=1.5 in /usr/local/lib/python3.11/dist-packages (from astroquery->isochrones>=2.1->mesalab==0.1.0.dev0) (1.7)\n",
      "Requirement already satisfied: soupsieve>1.2 in /usr/local/lib/python3.11/dist-packages (from beautifulsoup4>=4.8->astroquery->isochrones>=2.1->mesalab==0.1.0.dev0) (2.7)\n",
      "Requirement already satisfied: ndindex in /usr/local/lib/python3.11/dist-packages (from blosc2>=2.3.0->tables>=3.0->isochrones>=2.1->mesalab==0.1.0.dev0) (1.10.0)\n",
      "Requirement already satisfied: msgpack in /usr/local/lib/python3.11/dist-packages (from blosc2>=2.3.0->tables>=3.0->isochrones>=2.1->mesalab==0.1.0.dev0) (1.1.1)\n",
      "Requirement already satisfied: platformdirs in /usr/local/lib/python3.11/dist-packages (from blosc2>=2.3.0->tables>=3.0->isochrones>=2.1->mesalab==0.1.0.dev0) (4.3.8)\n",
      "Requirement already satisfied: webencodings in /usr/local/lib/python3.11/dist-packages (from html5lib>=0.999->astroquery->isochrones>=2.1->mesalab==0.1.0.dev0) (0.5.1)\n",
      "Requirement already satisfied: zipp>=3.20 in /usr/local/lib/python3.11/dist-packages (from importlib_metadata>=4.13.0->dask>=2.10.0->dask[dataframe]>=2.10.0->swifter>=1.4.0->mesalab==0.1.0.dev0) (3.23.0)\n",
      "Requirement already satisfied: SecretStorage>=3.2 in /usr/local/lib/python3.11/dist-packages (from keyring>=15.0->astroquery->isochrones>=2.1->mesalab==0.1.0.dev0) (3.3.3)\n",
      "Requirement already satisfied: jeepney>=0.4.2 in /usr/local/lib/python3.11/dist-packages (from keyring>=15.0->astroquery->isochrones>=2.1->mesalab==0.1.0.dev0) (0.9.0)\n",
      "Requirement already satisfied: jaraco.classes in /usr/local/lib/python3.11/dist-packages (from keyring>=15.0->astroquery->isochrones>=2.1->mesalab==0.1.0.dev0) (3.4.0)\n",
      "Requirement already satisfied: jaraco.functools in /usr/local/lib/python3.11/dist-packages (from keyring>=15.0->astroquery->isochrones>=2.1->mesalab==0.1.0.dev0) (4.2.1)\n",
      "Requirement already satisfied: jaraco.context in /usr/local/lib/python3.11/dist-packages (from keyring>=15.0->astroquery->isochrones>=2.1->mesalab==0.1.0.dev0) (6.0.1)\n",
      "Requirement already satisfied: locket in /usr/local/lib/python3.11/dist-packages (from partd>=1.4.0->dask>=2.10.0->dask[dataframe]>=2.10.0->swifter>=1.4.0->mesalab==0.1.0.dev0) (1.0.0)\n",
      "Requirement already satisfied: charset-normalizer<4,>=2 in /usr/local/lib/python3.11/dist-packages (from requests>=2.19->astroquery->isochrones>=2.1->mesalab==0.1.0.dev0) (3.4.3)\n",
      "Requirement already satisfied: idna<4,>=2.5 in /usr/local/lib/python3.11/dist-packages (from requests>=2.19->astroquery->isochrones>=2.1->mesalab==0.1.0.dev0) (3.10)\n",
      "Requirement already satisfied: urllib3<3,>=1.21.1 in /usr/local/lib/python3.11/dist-packages (from requests>=2.19->astroquery->isochrones>=2.1->mesalab==0.1.0.dev0) (2.5.0)\n",
      "Requirement already satisfied: certifi>=2017.4.17 in /usr/local/lib/python3.11/dist-packages (from requests>=2.19->astroquery->isochrones>=2.1->mesalab==0.1.0.dev0) (2025.8.3)\n",
      "Requirement already satisfied: cryptography>=2.0 in /usr/local/lib/python3.11/dist-packages (from SecretStorage>=3.2->keyring>=15.0->astroquery->isochrones>=2.1->mesalab==0.1.0.dev0) (43.0.3)\n",
      "Requirement already satisfied: more-itertools in /usr/local/lib/python3.11/dist-packages (from jaraco.classes->keyring>=15.0->astroquery->isochrones>=2.1->mesalab==0.1.0.dev0) (10.7.0)\n",
      "Requirement already satisfied: backports.tarfile in /usr/local/lib/python3.11/dist-packages (from jaraco.context->keyring>=15.0->astroquery->isochrones>=2.1->mesalab==0.1.0.dev0) (1.2.0)\n",
      "Requirement already satisfied: cffi>=1.12 in /usr/local/lib/python3.11/dist-packages (from cryptography>=2.0->SecretStorage>=3.2->keyring>=15.0->astroquery->isochrones>=2.1->mesalab==0.1.0.dev0) (1.17.1)\n",
      "Requirement already satisfied: pycparser in /usr/local/lib/python3.11/dist-packages (from cffi>=1.12->cryptography>=2.0->SecretStorage>=3.2->keyring>=15.0->astroquery->isochrones>=2.1->mesalab==0.1.0.dev0) (2.22)\n",
      "Installing collected packages: mesalab\n",
      "  Running setup.py develop for mesalab\n",
      "Successfully installed mesalab-0.1.0.dev0\n"
     ]
    }
   ],
   "source": [
    "# Navigate in the main directory\n",
    "%cd mesalab\n",
    "\n",
    "# Install the package\n",
    "!pip install -e ."
   ]
  },
  {
   "cell_type": "markdown",
   "metadata": {
    "id": "Oebj7XZxP0PO"
   },
   "source": [
    "----\n",
    "\n",
    "## 2. Examine the Example Data and Configuration\n",
    "\n",
    "\n",
    "Once you have successfully installed the package, navigate to the `example/` directory within `mesalab/`."
   ]
  },
  {
   "cell_type": "code",
   "execution_count": 4,
   "metadata": {
    "colab": {
     "base_uri": "https://localhost:8080/"
    },
    "id": "dBjLk88gPvXx",
    "outputId": "2b8b87c8-913c-421f-da2e-d6a04dd2f432"
   },
   "outputs": [
    {
     "name": "stdout",
     "output_type": "stream",
     "text": [
      "[Errno 2] No such file or directory: 'example/'\n",
      "/home/buba/Dokumentumok/mesa_blue_loop/docs/colab_notebooks\n"
     ]
    },
    {
     "name": "stderr",
     "output_type": "stream",
     "text": [
      "/usr/lib/python3/dist-packages/IPython/core/magics/osm.py:393: UserWarning: using bookmarks requires you to install the `pickleshare` library.\n",
      "  bkms = self.shell.db.get('bookmarks', {})\n"
     ]
    }
   ],
   "source": [
    "%cd example/"
   ]
  },
  {
   "cell_type": "markdown",
   "metadata": {
    "id": "cr3Je-bgY2ki"
   },
   "source": [
    "This directory contains two pre-defined datasets. In this tutorial, we will focus on the `MESA_grid` dataset, which consists of real stellar evolution outputs from MESA. It is designed to demonstrate `mesalab`'s core blue loop filtering and analysis capabilities.\n",
    "\n",
    "#### 2.1. Dataset Overview\n",
    "\n",
    "* **Grid Parameters**: The dataset includes a 2x2 grid of models with masses of 4 and 5 M⊙​ and metallicities (Z) of 0.0090 and 0.0100.\n",
    "\n",
    "* **Evolutionary Coverage**: The simulations cover stellar evolution from the pre-main sequence (pre-MS) to a point after the blue loop phase.\n",
    "\n",
    "* **Key Feature**: A defining characteristic of this dataset is the differing blue loop behavior: models with 5 M⊙​ exhibit blue loop crossings, while models with 4 M⊙​ do not.\n",
    "\n",
    "\n",
    "This example dataset is located in the `example/MESA_grid` directory.\n",
    "\n",
    "The corresponding `example_MESA_base.yaml` configuration file is set up to identify blue loop crossers and generate plots. It also prepares filtered output files, which can be used as input for a subsequent GYRE workflow."
   ]
  },
  {
   "cell_type": "markdown",
   "metadata": {},
   "source": [
    "#### Run the `MESA_grid` Example\n",
    "\n",
    "You can easily run your first example by executing `mesalab` with the provided configuration file:"
   ]
  },
  {
   "cell_type": "code",
   "execution_count": 16,
   "metadata": {
    "id": "RDBUo6jQST3N"
   },
   "outputs": [
    {
     "name": "stdout",
     "output_type": "stream",
     "text": [
      "2025-08-17 02:48:32,829 - DEBUG: Attempting to import core mesalab modules...\n",
      "2025-08-17 02:48:33,145 - WARNING: Holoviews not imported. Some visualizations will not be available.\n",
      "2025-08-17 02:48:34,123 - DEBUG: Creating converter from 7 to 5\n",
      "2025-08-17 02:48:34,123 - DEBUG: Creating converter from 5 to 7\n",
      "2025-08-17 02:48:34,123 - DEBUG: Creating converter from 7 to 5\n",
      "2025-08-17 02:48:34,123 - DEBUG: Creating converter from 5 to 7\n",
      "2025-08-17 02:48:34,144 - WARNING: PyMultiNest not imported.  MultiNest fits will not work.\n",
      "2025-08-17 02:48:34,339 - INFO: Initializing MIST Bolometric Correction Grid... (This happens once)\n",
      "2025-08-17 02:48:34,339 - INFO: MIST Bolometric Correction Grid initialized.\n",
      "2025-08-17 02:48:34,393 - DEBUG: Successfully imported all core mesalab modules, including GYRE.\n",
      "2025-08-17 02:48:34,393 - DEBUG: Attempting to import RSP workflow module...\n",
      "2025-08-17 02:48:34,394 - DEBUG: Successfully imported RSP workflow module.\n",
      "\n",
      "================================================================================\n",
      "                    mesalab CLI - Starting Analysis Workflow                    \n",
      "                              Version: 0.1.0.dev0                               \n",
      "================================================================================\n",
      "\n",
      "2025-08-17 02:48:34,395 - INFO: Default logging level is INFO (early stage).\n",
      "2025-08-17 02:48:34,399 - INFO: Loaded configuration from '/home/buba/Dokumentumok/mesa_blue_loop/example/example_MESA_base.yaml'.\n",
      "2025-08-17 02:48:34,400 - WARNING: MESASDK_ROOT not set. Some MESA-related tools might not be found if they are part of the SDK.\n",
      "2025-08-17 02:48:34,400 - CRITICAL: ERROR: Neither MESA_DIR nor MESASDK_ROOT are set or could be determined. MESA-dependent workflows cannot proceed without at least one of them being valid.\n"
     ]
    }
   ],
   "source": [
    "! mesalab --config example_MESA_base.yaml"
   ]
  }
 ],
 "metadata": {
  "colab": {
   "authorship_tag": "ABX9TyMUbKZgBcGPTAEtUj7wfuj0",
   "include_colab_link": true,
   "provenance": []
  },
  "kernelspec": {
   "display_name": "Python 3 (ipykernel)",
   "language": "python",
   "name": "python3"
  },
  "language_info": {
   "codemirror_mode": {
    "name": "ipython",
    "version": 3
   },
   "file_extension": ".py",
   "mimetype": "text/x-python",
   "name": "python",
   "nbconvert_exporter": "python",
   "pygments_lexer": "ipython3",
   "version": "3.12.3"
  }
 },
 "nbformat": 4,
 "nbformat_minor": 1
}
